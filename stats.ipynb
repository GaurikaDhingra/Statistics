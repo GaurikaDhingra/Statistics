{
  "nbformat": 4,
  "nbformat_minor": 0,
  "metadata": {
    "colab": {
      "provenance": []
    },
    "kernelspec": {
      "name": "python3",
      "display_name": "Python 3"
    },
    "language_info": {
      "name": "python"
    }
  },
  "cells": [
    {
      "cell_type": "code",
      "execution_count": 1,
      "metadata": {
        "id": "v0JdqTUZNi-m"
      },
      "outputs": [],
      "source": [
        "#STATISTICS"
      ]
    },
    {
      "cell_type": "code",
      "source": [
        "## POPULATION MEAN , STANDARD DEVIATION AMD Z-SCORE\n",
        "import numpy as np\n",
        "# Given data\n",
        "population_data = [120, 49, 88, 140, 76, 48, 132, 84, 148]\n",
        "X = 148\n",
        "\n",
        "# Calculate population mean and standard deviation for the new data\n",
        "mean_population = np.mean(population_data)\n",
        "std_population = np.std(population_data)\n",
        "\n",
        "# Calculate Z-score for X = 42\n",
        "z_score = (X - mean_population) / std_population\n",
        "print(\"Population Mean: \", mean_population, \"Standard Deviation: \", std_population, \"Z-Score: \", z_score)\n"
      ],
      "metadata": {
        "colab": {
          "base_uri": "https://localhost:8080/"
        },
        "id": "O_PGKF-FNrOV",
        "outputId": "0d18b839-9709-458a-b2cd-c1c3cad91479"
      },
      "execution_count": 2,
      "outputs": [
        {
          "output_type": "stream",
          "name": "stdout",
          "text": [
            "Population Mean:  98.33333333333333 Standard Deviation:  35.87633079219656 Z-Score:  1.3843853473853474\n"
          ]
        }
      ]
    },
    {
      "cell_type": "code",
      "source": [
        "##SKEWNESS\n",
        "import numpy as np\n",
        "from scipy.stats import skew\n",
        "\n",
        "# Given data\n",
        "data = [160, 50, 70, 7, 31, 42, 100, 54, 53]\n",
        "\n",
        "# Calculate the sample skewness\n",
        "sample_skewness = skew(data, bias=True)\n",
        "print(\"Skewness for the given data is: \", sample_skewness)"
      ],
      "metadata": {
        "colab": {
          "base_uri": "https://localhost:8080/"
        },
        "id": "vcw6sVjINwAK",
        "outputId": "938432bb-0d25-4e62-a223-f0e66372733a"
      },
      "execution_count": 3,
      "outputs": [
        {
          "output_type": "stream",
          "name": "stdout",
          "text": [
            "Skewness for the given data is:  1.1233228373931445\n"
          ]
        }
      ]
    },
    {
      "cell_type": "code",
      "source": [
        "##IQR\n",
        "# Given data\n",
        "data = [189, 27, 165, 182, 5, 143, -13, 8, -20]\n",
        "\n",
        "# Calculate Q1 and Q3\n",
        "Q1 = np.percentile(data, 25)\n",
        "Q3 = np.percentile(data, 75)\n",
        "\n",
        "# Calculate the IQR\n",
        "IQR = Q3 - Q1\n",
        "print(\"IQR for the given data is: \", IQR)"
      ],
      "metadata": {
        "colab": {
          "base_uri": "https://localhost:8080/"
        },
        "id": "VwWIqJXqNz6C",
        "outputId": "17cffac2-8c51-49f0-eddf-7dbe562346e1"
      },
      "execution_count": 4,
      "outputs": [
        {
          "output_type": "stream",
          "name": "stdout",
          "text": [
            "IQR for the given data is:  160.0\n"
          ]
        }
      ]
    },
    {
      "cell_type": "code",
      "source": [
        "##CORRELATION COEFFICIENT\n",
        "import numpy as np\n",
        "\n",
        "# Sample data\n",
        "X = 27, 77, 87, 91, 11\n",
        "Y = 48, 76, 90, 76, 5\n",
        "\n",
        "# Calculate the correlation coefficient\n",
        "correlation = np.corrcoef(X, Y)[0, 1]\n",
        "\n",
        "# Round the correlation coefficient to 4 decimal places\n",
        "correlation = round(correlation, 4)\n",
        "\n",
        "# Print the correlation coefficient\n",
        "print(\"Coefficient of correlation:\", correlation)"
      ],
      "metadata": {
        "colab": {
          "base_uri": "https://localhost:8080/"
        },
        "id": "2-jl4XhON3-i",
        "outputId": "c856f2d9-9549-444a-b3bb-20ae20461bdd"
      },
      "execution_count": 5,
      "outputs": [
        {
          "output_type": "stream",
          "name": "stdout",
          "text": [
            "Coefficient of correlation: 0.9327\n"
          ]
        }
      ]
    },
    {
      "cell_type": "code",
      "source": [
        "##CALCULATING SLOPE AND INTERCEPT\n",
        "import numpy as np\n",
        "import statsmodels.api as sm\n",
        "\n",
        "# Given data\n",
        "X = 45, 88, 13, 88, 64\n",
        "Y = 17, 60, 17, 115, 86\n",
        "\n",
        "# Adding a constant for the intercept term\n",
        "X_with_const = sm.add_constant(X)\n",
        "\n",
        "# Performing the regression\n",
        "model = sm.OLS(Y, X_with_const).fit()\n",
        "\n",
        "# Extracting the slope and intercept\n",
        "slope = model.params[1]\n",
        "intercept = model.params[0]\n",
        "\n",
        "print(\"Slope: \", slope, \"Intercept: \", intercept)"
      ],
      "metadata": {
        "colab": {
          "base_uri": "https://localhost:8080/"
        },
        "id": "hIcXmgd9N-CS",
        "outputId": "f365e55d-4332-4b0a-da05-45ca06e3b89f"
      },
      "execution_count": 6,
      "outputs": [
        {
          "output_type": "stream",
          "name": "stdout",
          "text": [
            "Slope:  1.0723887284675895 Intercept:  -4.914368216668352\n"
          ]
        }
      ]
    },
    {
      "cell_type": "code",
      "source": [
        "##CONFIDENCE INTERVAL\n",
        "import scipy.stats as stats\n",
        "import numpy as np\n",
        "\n",
        "# Given data\n",
        "sample_size = 124\n",
        "sample_mean = 30\n",
        "sample_std = 12\n",
        "confidence_level = 0.91\n",
        "\n",
        "# Calculate the standard error\n",
        "standard_error = sample_std / np.sqrt(sample_size)\n",
        "\n",
        "# Get the z-value for the given confidence level (two-tailed)\n",
        "z_value = stats.norm.ppf((1 + confidence_level) / 2)\n",
        "\n",
        "# Calculate the confidence interval\n",
        "margin_of_error = z_value * standard_error\n",
        "confidence_interval = (sample_mean - margin_of_error, sample_mean + margin_of_error)\n",
        "\n",
        "print(\"Confidence Interval: \", confidence_interval)"
      ],
      "metadata": {
        "colab": {
          "base_uri": "https://localhost:8080/"
        },
        "id": "4t46XjzTOCNt",
        "outputId": "c82c4a05-eebf-4afd-b4b1-a4a6fd6517db"
      },
      "execution_count": 7,
      "outputs": [
        {
          "output_type": "stream",
          "name": "stdout",
          "text": [
            "Confidence Interval:  (28.17298549314642, 31.82701450685358)\n"
          ]
        }
      ]
    },
    {
      "cell_type": "code",
      "source": [
        "##CONFIDENCE INTERVAL - PROPORTION\n",
        "# Given data\n",
        "sample_size_prop = 77\n",
        "sample_proportion = 0.85\n",
        "confidence_level_prop = 0.9\n",
        "\n",
        "# Calculate the standard error for proportion\n",
        "standard_error_prop = np.sqrt((sample_proportion * (1 - sample_proportion)) / sample_size_prop)\n",
        "\n",
        "# Get the z-value for the given confidence level (two-tailed)\n",
        "z_value_prop = stats.norm.ppf((1 + confidence_level_prop) / 2)\n",
        "\n",
        "# Calculate the confidence interval for the proportion\n",
        "margin_of_error_prop = z_value_prop * standard_error_prop\n",
        "confidence_interval_prop = (sample_proportion - margin_of_error_prop, sample_proportion + margin_of_error_prop)\n",
        "\n",
        "print(\"COnfidence Interval: \", confidence_interval_prop)"
      ],
      "metadata": {
        "colab": {
          "base_uri": "https://localhost:8080/"
        },
        "id": "6val_kbPOGRo",
        "outputId": "82b1c783-13ca-4b00-ef37-4c20945eb43d"
      },
      "execution_count": 8,
      "outputs": [
        {
          "output_type": "stream",
          "name": "stdout",
          "text": [
            "COnfidence Interval:  (0.7830675092586097, 0.9169324907413903)\n"
          ]
        }
      ]
    },
    {
      "cell_type": "code",
      "source": [
        "##CONFIDENCE INTERVAL - SMALL SAMPLE\n",
        "# Given data for small sample\n",
        "sample_size_small = 10\n",
        "sample_mean_small = 68\n",
        "sample_std_small = 4.76\n",
        "confidence_level_small = 0.95\n",
        "\n",
        "# Calculate the standard error for small sample\n",
        "standard_error_small = sample_std_small / np.sqrt(sample_size_small)\n",
        "\n",
        "# Get the t-value for the given confidence level and degrees of freedom (n-1)\n",
        "degrees_of_freedom = sample_size_small - 1\n",
        "t_value_small = stats.t.ppf((1 + confidence_level_small) / 2, df=degrees_of_freedom)\n",
        "\n",
        "# Calculate the confidence interval for the small sample\n",
        "margin_of_error_small = t_value_small * standard_error_small\n",
        "confidence_interval_small = (sample_mean_small - margin_of_error_small, sample_mean_small + margin_of_error_small)\n",
        "\n",
        "print(\"Confidence Interval for given sample size is: \", confidence_interval_small)"
      ],
      "metadata": {
        "colab": {
          "base_uri": "https://localhost:8080/"
        },
        "id": "0xMzStQuOKXd",
        "outputId": "da0c51cd-c155-44c5-e004-43d0f766290e"
      },
      "execution_count": 9,
      "outputs": [
        {
          "output_type": "stream",
          "name": "stdout",
          "text": [
            "Confidence Interval for given sample size is:  (64.5949011274955, 71.4050988725045)\n"
          ]
        }
      ]
    },
    {
      "cell_type": "code",
      "source": [
        "##BINOMIAL AND CUMULATIVE PROBABILITY\n",
        "import math\n",
        "# Function to calculate binomial probability\n",
        "def binomial_probability(n, k, p):\n",
        "    binom_coeff = math.comb(n, k)  # Calculate binomial coefficient\n",
        "    return binom_coeff * (p ** k) * ((1 - p) ** (n - k))\n",
        "\n",
        "# Parameters\n",
        "n = 19  # number of trials\n",
        "p = 0.61  # probability of success\n",
        "\n",
        "# Calculate cumulative probability for k = 0 to 8\n",
        "cumulative_probability = sum(binomial_probability(n, k, p) for k in range(18))\n",
        "print(\"Cumulative Probability: \", cumulative_probability)"
      ],
      "metadata": {
        "colab": {
          "base_uri": "https://localhost:8080/"
        },
        "id": "hwk2rbXjOOOV",
        "outputId": "ed74a599-0b93-4d2a-f80f-d6e02a0a4709"
      },
      "execution_count": 10,
      "outputs": [
        {
          "output_type": "stream",
          "name": "stdout",
          "text": [
            "Cumulative Probability:  0.9989032405162189\n"
          ]
        }
      ]
    },
    {
      "cell_type": "code",
      "source": [],
      "metadata": {
        "id": "IpvSrjQ0OfG0"
      },
      "execution_count": null,
      "outputs": []
    }
  ]
}